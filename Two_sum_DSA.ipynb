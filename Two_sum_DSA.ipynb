{
  "nbformat": 4,
  "nbformat_minor": 0,
  "metadata": {
    "colab": {
      "provenance": [],
      "authorship_tag": "ABX9TyMcvEZD5asHONaJYYB0Pg0G",
      "include_colab_link": true
    },
    "kernelspec": {
      "name": "python3",
      "display_name": "Python 3"
    },
    "language_info": {
      "name": "python"
    }
  },
  "cells": [
    {
      "cell_type": "markdown",
      "metadata": {
        "id": "view-in-github",
        "colab_type": "text"
      },
      "source": [
        "<a href=\"https://colab.research.google.com/github/Uvaisbugh/DSA_Python/blob/main/Two_sum_DSA.ipynb\" target=\"_parent\"><img src=\"https://colab.research.google.com/assets/colab-badge.svg\" alt=\"Open In Colab\"/></a>"
      ]
    },
    {
      "cell_type": "code",
      "execution_count": 5,
      "metadata": {
        "id": "fQGyXBhxldwI"
      },
      "outputs": [],
      "source": [
        "#Approach 1: Brute Force\n"
      ]
    },
    {
      "cell_type": "markdown",
      "source": [
        "Algorithm\n",
        "\n",
        "The brute force approach is simple. Loop through each element x and find if there is another value that equals to target−x."
      ],
      "metadata": {
        "id": "OOHvRfE1ln_N"
      }
    },
    {
      "cell_type": "code",
      "source": [
        "class Solution:\n",
        "    def twoSum1(self, nums: List[int], target: int) -> List[int]:\n",
        "        for i in range(len(nums)):\n",
        "            for j in range(i + 1, len(nums)):\n",
        "                if nums[j] == target - nums[i]:\n",
        "                    return [i, j]\n",
        "        # Return an empty list if no solution is found\n",
        "        return []"
      ],
      "metadata": {
        "id": "Gy0iM-QWlpTq"
      },
      "execution_count": null,
      "outputs": []
    },
    {
      "cell_type": "code",
      "source": [
        "#Approach 2: Two-pass Hash Table"
      ],
      "metadata": {
        "id": "YdW_rqiEls4V"
      },
      "execution_count": null,
      "outputs": []
    },
    {
      "cell_type": "code",
      "source": [
        "class Solution:\n",
        "    def twoSum2(self, nums: List[int], target: int) -> List[int]:\n",
        "        hashmap = {}\n",
        "        for i in range(len(nums)):\n",
        "            hashmap[nums[i]] = i\n",
        "        for i in range(len(nums)):\n",
        "            complement = target - nums[i]\n",
        "            if complement in hashmap and hashmap[complement] != i:\n",
        "                return [i, hashmap[complement]]\n",
        "        # If no valid pair is found, return an empty list\n",
        "        return []"
      ],
      "metadata": {
        "id": "1Q5hQa9rlyvA"
      },
      "execution_count": null,
      "outputs": []
    },
    {
      "cell_type": "code",
      "source": [
        "#Approach 3: One-pass Hash Table|"
      ],
      "metadata": {
        "id": "WDGaEGz4l10V"
      },
      "execution_count": 8,
      "outputs": []
    },
    {
      "cell_type": "code",
      "source": [
        "class Solution:\n",
        "    def twoSum(self, nums: List[int], target: int) -> List[int]:\n",
        "        hashmap = {}\n",
        "        for i in range(len(nums)):\n",
        "            complement = target - nums[i]\n",
        "            if complement in hashmap:\n",
        "                return [i, hashmap[complement]]\n",
        "            hashmap[nums[i]] = i\n",
        "        # Return an empty list if no solution is found\n",
        "        return []"
      ],
      "metadata": {
        "id": "XKBMA-E6mHUV"
      },
      "execution_count": null,
      "outputs": []
    }
  ]
}